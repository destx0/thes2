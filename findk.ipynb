{
 "cells": [
  {
   "cell_type": "code",
   "execution_count": 14,
   "metadata": {},
   "outputs": [],
   "source": [
    "import matplotlib.pyplot as plt\n",
    "import networkx as nx\n",
    "from networkx.drawing.nx_agraph import graphviz_layout\n",
    "import heapq\n",
    "from sklearn.datasets import make_blobs\n",
    "import math\n",
    "import copy"
   ]
  },
  {
   "cell_type": "code",
   "execution_count": null,
   "metadata": {},
   "outputs": [],
   "source": []
  },
  {
   "cell_type": "code",
   "execution_count": 15,
   "metadata": {},
   "outputs": [],
   "source": [
    "class KDNode:\n",
    "    def __init__(self, point, axis, left=None, right=None):\n",
    "        self.point = point\n",
    "        self.axis = axis\n",
    "        self.left = left\n",
    "        self.right = right\n",
    "\n",
    "class KDTree:\n",
    "    def __init__(self):\n",
    "        self.root = None\n",
    "\n",
    "    def build(self, points, depth=0):\n",
    "        if not points:\n",
    "            return None\n",
    "        \n",
    "        k = len(points[0])  # Dimensionality of the data\n",
    "        axis = depth % k\n",
    "\n",
    "        # Sort points by the current axis and choose the median as the pivot\n",
    "        points.sort(key=lambda x: x[axis])\n",
    "        median = len(points) // 2\n",
    "\n",
    "        return KDNode(\n",
    "            point=points[median],\n",
    "            axis=axis,\n",
    "            left=self.build(points[:median], depth + 1),\n",
    "            right=self.build(points[median + 1:], depth + 1)\n",
    "        )\n",
    "\n",
    "    def insert(self, point):\n",
    "        def _insert_rec(node, point, depth=0):\n",
    "            if node is None:\n",
    "                k = len(point)\n",
    "                return KDNode(point, depth % k)\n",
    "            \n",
    "            if point[node.axis] < node.point[node.axis]:\n",
    "                node.left = _insert_rec(node.left, point, depth + 1)\n",
    "            else:\n",
    "                node.right = _insert_rec(node.right, point, depth + 1)\n",
    "            \n",
    "            return node\n",
    "\n",
    "        self.root = _insert_rec(self.root, point)\n"
   ]
  },
  {
   "cell_type": "code",
   "execution_count": null,
   "metadata": {},
   "outputs": [],
   "source": [
    "\n"
   ]
  },
  {
   "cell_type": "code",
   "execution_count": 16,
   "metadata": {},
   "outputs": [],
   "source": [
    "def ith_nearest_neighbor(tree, query_point, i):\n",
    "    \"\"\"Find the ith nearest neighbor of the given point using a set to track visited nodes.\"\"\"\n",
    "    if tree.root is None:\n",
    "        return None\n",
    "\n",
    "    # Priority queue to maintain i nearest neighbors\n",
    "    neighbors = []\n",
    "    \n",
    "    # Set to track visited nodes\n",
    "    visited = set()\n",
    "\n",
    "    def _search(node):\n",
    "        if node is None or node in visited:\n",
    "            return\n",
    "\n",
    "        visited.add(node)\n",
    "\n",
    "        # Calculate distance from the current node to the query point\n",
    "        distance = sum([(a - b) ** 2 for a, b in zip(node.point, query_point)]) ** 0.5\n",
    "\n",
    "        # If we have less than i neighbors, just add the current node\n",
    "        if len(neighbors) < i:\n",
    "            heapq.heappush(neighbors, (-distance, node.point))\n",
    "        else:\n",
    "            # If the current node is closer than the farthest neighbor, update the queue\n",
    "            if distance < -neighbors[0][0]:\n",
    "                heapq.heappop(neighbors)\n",
    "                heapq.heappush(neighbors, (-distance, node.point))\n",
    "\n",
    "        axis = node.axis\n",
    "        next_branch = None\n",
    "        opposite_branch = None\n",
    "\n",
    "        if query_point[axis] < node.point[axis]:\n",
    "            next_branch = node.left\n",
    "            opposite_branch = node.right\n",
    "        else:\n",
    "            next_branch = node.right\n",
    "            opposite_branch = node.left\n",
    "\n",
    "        # Recursively search the half of the tree that contains the test point\n",
    "        _search(next_branch)\n",
    "\n",
    "        # If difference between splitting coordinate and test point's coordinate is\n",
    "        # less than the distance from test point to the farthest neighbor, search the other half\n",
    "        if (len(neighbors) < i or\n",
    "                abs(query_point[axis] - node.point[axis]) < -neighbors[0][0]):\n",
    "            _search(opposite_branch)\n",
    "\n",
    "    _search(tree.root)\n",
    "\n",
    "    # Return the i-th nearest neighbor\n",
    "    return neighbors[0][1]\n",
    "\n",
    "\n"
   ]
  },
  {
   "cell_type": "code",
   "execution_count": 17,
   "metadata": {},
   "outputs": [],
   "source": [
    "def dck(tree, points):    \n",
    "    k = 2\n",
    "    Nb = {pt:0 for pt in points}\n",
    "    # count num of 0s in Nb\n",
    "    NN = {pt:set() for pt in points}\n",
    "    RNN = {pt:set() for pt in points}\n",
    "    NaN = {pt:set() for pt in points}\n",
    "\n",
    "    while True:\n",
    "        zeros_in_Nb = sum(1 for value in Nb.values() if value == 0)\n",
    "        for pointi in points:\n",
    "            pointj = ith_nearest_neighbor(tree, pointi, k)\n",
    "            \n",
    "            if pointj not in NN[pointi]:\n",
    "                NN[pointi].add(pointj)\n",
    "                RNN[pointj].add(pointi)\n",
    "                Nb[pointj] += 1\n",
    "            # print(Nb , NN , RNN) \n",
    "        new_zeros_in_Nb = sum(1 for value in Nb.values() if value == 0)\n",
    "        if new_zeros_in_Nb == zeros_in_Nb:\n",
    "            break\n",
    "        k += 1\n",
    "    return k\n"
   ]
  },
  {
   "cell_type": "code",
   "execution_count": 18,
   "metadata": {},
   "outputs": [],
   "source": [
    "def findkval(points):\n",
    "    tree = KDTree()\n",
    "    tree.root = tree.build(points)\n",
    "    dckval = dck(tree, points)\n",
    "    return dckval\n",
    "    "
   ]
  },
  {
   "cell_type": "code",
   "execution_count": null,
   "metadata": {},
   "outputs": [],
   "source": []
  },
  {
   "cell_type": "code",
   "execution_count": 19,
   "metadata": {},
   "outputs": [
    {
     "name": "stdout",
     "output_type": "stream",
     "text": [
      "for n_samples =  50  dck =  6\n",
      "for n_samples =  500  dck =  7\n",
      "for n_samples =  5000  dck =  11\n",
      "for n_samples =  50000  dck =  11\n"
     ]
    },
    {
     "ename": "KeyboardInterrupt",
     "evalue": "",
     "output_type": "error",
     "traceback": [
      "\u001b[0;31m---------------------------------------------------------------------------\u001b[0m",
      "\u001b[0;31mKeyboardInterrupt\u001b[0m                         Traceback (most recent call last)",
      "Cell \u001b[0;32mIn[19], line 4\u001b[0m\n\u001b[1;32m      2\u001b[0m X, Y \u001b[39m=\u001b[39m make_blobs(n_samples\u001b[39m=\u001b[39mns, centers\u001b[39m=\u001b[39m\u001b[39m5\u001b[39m, random_state\u001b[39m=\u001b[39m\u001b[39m42\u001b[39m, cluster_std\u001b[39m=\u001b[39m[\u001b[39m0.5\u001b[39m, \u001b[39m0.7\u001b[39m, \u001b[39m0.9\u001b[39m, \u001b[39m1.2\u001b[39m, \u001b[39m1.5\u001b[39m])\n\u001b[1;32m      3\u001b[0m points \u001b[39m=\u001b[39m [(x,y) \u001b[39mfor\u001b[39;00m x,y \u001b[39min\u001b[39;00m X]\n\u001b[0;32m----> 4\u001b[0m \u001b[39mprint\u001b[39m(\u001b[39m\"\u001b[39m\u001b[39mfor n_samples = \u001b[39m\u001b[39m\"\u001b[39m , ns , \u001b[39m\"\u001b[39m\u001b[39m dck = \u001b[39m\u001b[39m\"\u001b[39m , findkval(points))\n",
      "Cell \u001b[0;32mIn[18], line 4\u001b[0m, in \u001b[0;36mfindkval\u001b[0;34m(points)\u001b[0m\n\u001b[1;32m      2\u001b[0m tree \u001b[39m=\u001b[39m KDTree()\n\u001b[1;32m      3\u001b[0m tree\u001b[39m.\u001b[39mroot \u001b[39m=\u001b[39m tree\u001b[39m.\u001b[39mbuild(points)\n\u001b[0;32m----> 4\u001b[0m dckval \u001b[39m=\u001b[39m dck(tree, points)\n\u001b[1;32m      5\u001b[0m \u001b[39mreturn\u001b[39;00m dckval\n",
      "Cell \u001b[0;32mIn[17], line 12\u001b[0m, in \u001b[0;36mdck\u001b[0;34m(tree, points)\u001b[0m\n\u001b[1;32m     10\u001b[0m zeros_in_Nb \u001b[39m=\u001b[39m \u001b[39msum\u001b[39m(\u001b[39m1\u001b[39m \u001b[39mfor\u001b[39;00m value \u001b[39min\u001b[39;00m Nb\u001b[39m.\u001b[39mvalues() \u001b[39mif\u001b[39;00m value \u001b[39m==\u001b[39m \u001b[39m0\u001b[39m)\n\u001b[1;32m     11\u001b[0m \u001b[39mfor\u001b[39;00m pointi \u001b[39min\u001b[39;00m points:\n\u001b[0;32m---> 12\u001b[0m     pointj \u001b[39m=\u001b[39m ith_nearest_neighbor(tree, pointi, k)\n\u001b[1;32m     14\u001b[0m     \u001b[39mif\u001b[39;00m pointj \u001b[39mnot\u001b[39;00m \u001b[39min\u001b[39;00m NN[pointi]:\n\u001b[1;32m     15\u001b[0m         NN[pointi]\u001b[39m.\u001b[39madd(pointj)\n",
      "Cell \u001b[0;32mIn[16], line 50\u001b[0m, in \u001b[0;36mith_nearest_neighbor\u001b[0;34m(tree, query_point, i)\u001b[0m\n\u001b[1;32m     46\u001b[0m     \u001b[39mif\u001b[39;00m (\u001b[39mlen\u001b[39m(neighbors) \u001b[39m<\u001b[39m i \u001b[39mor\u001b[39;00m\n\u001b[1;32m     47\u001b[0m             \u001b[39mabs\u001b[39m(query_point[axis] \u001b[39m-\u001b[39m node\u001b[39m.\u001b[39mpoint[axis]) \u001b[39m<\u001b[39m \u001b[39m-\u001b[39mneighbors[\u001b[39m0\u001b[39m][\u001b[39m0\u001b[39m]):\n\u001b[1;32m     48\u001b[0m         _search(opposite_branch)\n\u001b[0;32m---> 50\u001b[0m _search(tree\u001b[39m.\u001b[39;49mroot)\n\u001b[1;32m     52\u001b[0m \u001b[39m# Return the i-th nearest neighbor\u001b[39;00m\n\u001b[1;32m     53\u001b[0m \u001b[39mreturn\u001b[39;00m neighbors[\u001b[39m0\u001b[39m][\u001b[39m1\u001b[39m]\n",
      "Cell \u001b[0;32mIn[16], line 42\u001b[0m, in \u001b[0;36mith_nearest_neighbor.<locals>._search\u001b[0;34m(node)\u001b[0m\n\u001b[1;32m     39\u001b[0m     opposite_branch \u001b[39m=\u001b[39m node\u001b[39m.\u001b[39mleft\n\u001b[1;32m     41\u001b[0m \u001b[39m# Recursively search the half of the tree that contains the test point\u001b[39;00m\n\u001b[0;32m---> 42\u001b[0m _search(next_branch)\n\u001b[1;32m     44\u001b[0m \u001b[39m# If difference between splitting coordinate and test point's coordinate is\u001b[39;00m\n\u001b[1;32m     45\u001b[0m \u001b[39m# less than the distance from test point to the farthest neighbor, search the other half\u001b[39;00m\n\u001b[1;32m     46\u001b[0m \u001b[39mif\u001b[39;00m (\u001b[39mlen\u001b[39m(neighbors) \u001b[39m<\u001b[39m i \u001b[39mor\u001b[39;00m\n\u001b[1;32m     47\u001b[0m         \u001b[39mabs\u001b[39m(query_point[axis] \u001b[39m-\u001b[39m node\u001b[39m.\u001b[39mpoint[axis]) \u001b[39m<\u001b[39m \u001b[39m-\u001b[39mneighbors[\u001b[39m0\u001b[39m][\u001b[39m0\u001b[39m]):\n",
      "Cell \u001b[0;32mIn[16], line 42\u001b[0m, in \u001b[0;36mith_nearest_neighbor.<locals>._search\u001b[0;34m(node)\u001b[0m\n\u001b[1;32m     39\u001b[0m     opposite_branch \u001b[39m=\u001b[39m node\u001b[39m.\u001b[39mleft\n\u001b[1;32m     41\u001b[0m \u001b[39m# Recursively search the half of the tree that contains the test point\u001b[39;00m\n\u001b[0;32m---> 42\u001b[0m _search(next_branch)\n\u001b[1;32m     44\u001b[0m \u001b[39m# If difference between splitting coordinate and test point's coordinate is\u001b[39;00m\n\u001b[1;32m     45\u001b[0m \u001b[39m# less than the distance from test point to the farthest neighbor, search the other half\u001b[39;00m\n\u001b[1;32m     46\u001b[0m \u001b[39mif\u001b[39;00m (\u001b[39mlen\u001b[39m(neighbors) \u001b[39m<\u001b[39m i \u001b[39mor\u001b[39;00m\n\u001b[1;32m     47\u001b[0m         \u001b[39mabs\u001b[39m(query_point[axis] \u001b[39m-\u001b[39m node\u001b[39m.\u001b[39mpoint[axis]) \u001b[39m<\u001b[39m \u001b[39m-\u001b[39mneighbors[\u001b[39m0\u001b[39m][\u001b[39m0\u001b[39m]):\n",
      "    \u001b[0;31m[... skipping similar frames: ith_nearest_neighbor.<locals>._search at line 42 (4 times)]\u001b[0m\n",
      "Cell \u001b[0;32mIn[16], line 42\u001b[0m, in \u001b[0;36mith_nearest_neighbor.<locals>._search\u001b[0;34m(node)\u001b[0m\n\u001b[1;32m     39\u001b[0m     opposite_branch \u001b[39m=\u001b[39m node\u001b[39m.\u001b[39mleft\n\u001b[1;32m     41\u001b[0m \u001b[39m# Recursively search the half of the tree that contains the test point\u001b[39;00m\n\u001b[0;32m---> 42\u001b[0m _search(next_branch)\n\u001b[1;32m     44\u001b[0m \u001b[39m# If difference between splitting coordinate and test point's coordinate is\u001b[39;00m\n\u001b[1;32m     45\u001b[0m \u001b[39m# less than the distance from test point to the farthest neighbor, search the other half\u001b[39;00m\n\u001b[1;32m     46\u001b[0m \u001b[39mif\u001b[39;00m (\u001b[39mlen\u001b[39m(neighbors) \u001b[39m<\u001b[39m i \u001b[39mor\u001b[39;00m\n\u001b[1;32m     47\u001b[0m         \u001b[39mabs\u001b[39m(query_point[axis] \u001b[39m-\u001b[39m node\u001b[39m.\u001b[39mpoint[axis]) \u001b[39m<\u001b[39m \u001b[39m-\u001b[39mneighbors[\u001b[39m0\u001b[39m][\u001b[39m0\u001b[39m]):\n",
      "Cell \u001b[0;32mIn[16], line 34\u001b[0m, in \u001b[0;36mith_nearest_neighbor.<locals>._search\u001b[0;34m(node)\u001b[0m\n\u001b[1;32m     31\u001b[0m next_branch \u001b[39m=\u001b[39m \u001b[39mNone\u001b[39;00m\n\u001b[1;32m     32\u001b[0m opposite_branch \u001b[39m=\u001b[39m \u001b[39mNone\u001b[39;00m\n\u001b[0;32m---> 34\u001b[0m \u001b[39mif\u001b[39;00m query_point[axis] \u001b[39m<\u001b[39m node\u001b[39m.\u001b[39mpoint[axis]:\n\u001b[1;32m     35\u001b[0m     next_branch \u001b[39m=\u001b[39m node\u001b[39m.\u001b[39mleft\n\u001b[1;32m     36\u001b[0m     opposite_branch \u001b[39m=\u001b[39m node\u001b[39m.\u001b[39mright\n",
      "\u001b[0;31mKeyboardInterrupt\u001b[0m: "
     ]
    }
   ],
   "source": [
    "for ns in [50 , 500 , 5000 , 50000 , 500000]:\n",
    "    X, Y = make_blobs(n_samples=ns, centers=5, random_state=42, cluster_std=[0.5, 0.7, 0.9, 1.2, 1.5])\n",
    "    points = [(x,y) for x,y in X]\n",
    "    print(\"for n_samples = \" , ns , \" dck = \" , findkval(points))"
   ]
  },
  {
   "cell_type": "code",
   "execution_count": 22,
   "metadata": {},
   "outputs": [
    {
     "name": "stdout",
     "output_type": "stream",
     "text": [
      "for no of points =  0000050  value of k =  7\n",
      "for no of points =  0000500  value of k =  10\n",
      "for no of points =  0005000  value of k =  10\n",
      "for no of points =  0050000  value of k =  10\n",
      "for no of points =  0500000  value of k =  14\n",
      "for no of points =  5000000  value of k =  14\n"
     ]
    }
   ],
   "source": [
    "for ns in [50 , 500 , 5000 , 50000 , 500000 , 5000000]:\n",
    "    X, Y = make_blobs(n_samples=ns,  random_state=42)\n",
    "    points = [(x,y) for x,y in X]\n",
    "    print(\"for no of points = \" , str(ns).zfill(7) , \" value of k = \" , findkval(points))"
   ]
  },
  {
   "cell_type": "code",
   "execution_count": 27,
   "metadata": {},
   "outputs": [
    {
     "name": "stdout",
     "output_type": "stream",
     "text": [
      "pointcount =  000010  | clusterscount =  0005  |value of k =  3\n",
      "pointcount =  000010  | clusterscount =  0010  |value of k =  4\n",
      "pointcount =  000100  | clusterscount =  0005  |value of k =  7\n",
      "pointcount =  000100  | clusterscount =  0010  |value of k =  7\n",
      "pointcount =  000100  | clusterscount =  0020  |value of k =  6\n",
      "pointcount =  000100  | clusterscount =  0030  |value of k =  7\n",
      "pointcount =  000100  | clusterscount =  0040  |value of k =  8\n",
      "pointcount =  000100  | clusterscount =  0050  |value of k =  7\n",
      "pointcount =  000100  | clusterscount =  0100  |value of k =  6\n",
      "pointcount =  001000  | clusterscount =  0005  |value of k =  8\n",
      "pointcount =  001000  | clusterscount =  0010  |value of k =  9\n",
      "pointcount =  001000  | clusterscount =  0020  |value of k =  10\n",
      "pointcount =  001000  | clusterscount =  0030  |value of k =  11\n",
      "pointcount =  001000  | clusterscount =  0040  |value of k =  8\n",
      "pointcount =  001000  | clusterscount =  0050  |value of k =  8\n",
      "pointcount =  001000  | clusterscount =  0100  |value of k =  8\n",
      "pointcount =  001000  | clusterscount =  0500  |value of k =  7\n",
      "pointcount =  001000  | clusterscount =  1000  |value of k =  7\n",
      "pointcount =  010000  | clusterscount =  0005  |value of k =  9\n",
      "pointcount =  010000  | clusterscount =  0010  |value of k =  9\n",
      "pointcount =  010000  | clusterscount =  0020  |value of k =  11\n",
      "pointcount =  010000  | clusterscount =  0030  |value of k =  10\n",
      "pointcount =  010000  | clusterscount =  0040  |value of k =  11\n",
      "pointcount =  010000  | clusterscount =  0050  |value of k =  11\n",
      "pointcount =  010000  | clusterscount =  0100  |value of k =  12\n",
      "pointcount =  010000  | clusterscount =  0500  |value of k =  12\n",
      "pointcount =  010000  | clusterscount =  1000  |value of k =  9\n",
      "pointcount =  010000  | clusterscount =  5000  |value of k =  9\n",
      "pointcount =  100000  | clusterscount =  0005  |value of k =  11\n",
      "pointcount =  100000  | clusterscount =  0010  |value of k =  11\n",
      "pointcount =  100000  | clusterscount =  0020  |value of k =  12\n",
      "pointcount =  100000  | clusterscount =  0030  |value of k =  16\n",
      "pointcount =  100000  | clusterscount =  0040  |value of k =  10\n",
      "pointcount =  100000  | clusterscount =  0050  |value of k =  13\n",
      "pointcount =  100000  | clusterscount =  0100  |value of k =  12\n",
      "pointcount =  100000  | clusterscount =  0500  |value of k =  13\n",
      "pointcount =  100000  | clusterscount =  1000  |value of k =  11\n",
      "pointcount =  100000  | clusterscount =  5000  |value of k =  12\n"
     ]
    }
   ],
   "source": [
    "for ns in [10 , 100 , 1000 , 10000 , 100000] :\n",
    "    for nc in [5 , 10 ,20 , 30 , 40 , 50 , 100 , 500 , 1000 , 5000 ]:\n",
    "        if ns < nc:\n",
    "            continue\n",
    "        X, Y = make_blobs(n_samples=ns, centers=nc,  random_state=42)\n",
    "        points = [(x,y) for x,y in X]\n",
    "        print(\"pointcount = \" ,str(ns).zfill(6) , \" | clusterscount = \" , str(nc).zfill(4) , \" |value of k = \" , findkval(points))"
   ]
  },
  {
   "cell_type": "code",
   "execution_count": null,
   "metadata": {},
   "outputs": [],
   "source": []
  },
  {
   "cell_type": "code",
   "execution_count": null,
   "metadata": {},
   "outputs": [],
   "source": []
  },
  {
   "cell_type": "code",
   "execution_count": 30,
   "metadata": {},
   "outputs": [
    {
     "data": {
      "image/png": "[encoded data removed]",
      "text/plain": [
       "<Figure size 1000x600 with 1 Axes>"
      ]
     },
     "metadata": {},
     "output_type": "display_data"
    }
   ],
   "source": [
    "# Importing necessary libraries\n",
    "import matplotlib.pyplot as plt\n",
    "import pandas as pd\n",
    "import seaborn as sns\n",
    "\n",
    "# Creating the DataFrame from the provided data\n",
    "data = {\n",
    "    'Point Count': [10, 10, 100, 100, 100, 100, 100, 100, 100, 1000, 1000, 1000, 1000, 1000, 1000, 1000, 1000, 1000, \n",
    "                    10000, 10000, 10000, 10000, 10000, 10000, 10000, 10000, 10000, 10000, 100000, 100000, 100000, \n",
    "                    100000, 100000, 100000, 100000, 100000, 100000, 100000],\n",
    "    'Clusters Count': [5, 10, 5, 10, 20, 30, 40, 50, 100, 5, 10, 20, 30, 40, 50, 100, 500, 1000, 5, 10, 20, 30, 40, 50,\n",
    "                       100, 500, 1000, 5000, 5, 10, 20, 30, 40, 50, 100, 500, 1000, 5000],\n",
    "    'Value of k': [3, 4, 7, 7, 6, 7, 8, 7, 6, 8, 9, 10, 11, 8, 8, 8, 7, 7, 9, 9, 11, 10, 11, 11, 12, 12, 9, 9, 11, 11,\n",
    "                   12, 16, 10, 13, 12, 13, 11, 12]\n",
    "}\n",
    "\n",
    "df = pd.DataFrame(data)\n",
    "\n",
    "# Plotting\n",
    "plt.figure(figsize=(10, 6))\n",
    "plt.scatter(df['Point Count'], df['Value of k'], c='blue', label='Data Points')\n",
    "plt.xlabel('Point Count')\n",
    "plt.ylabel('Value of k')\n",
    "plt.title('2D Scatter Plot of Point Count and Value of k')\n",
    "plt.xscale('log')  # Log scale for better visualization\n",
    "plt.grid(True)\n",
    "\n",
    "# Adding a regression line\n",
    "sns.regplot(x='Point Count', y='Value of k', data=df, logx=True, scatter=False, color='red', label='Regression Line')\n",
    "\n",
    "plt.legend()\n",
    "plt.show()\n"
   ]
  }
 ],
 "metadata": {
  "kernelspec": {
   "display_name": "myenv",
   "language": "python",
   "name": "python3"
  },
  "language_info": {
   "codemirror_mode": {
    "name": "ipython",
    "version": 3
   },
   "file_extension": ".py",
   "mimetype": "text/x-python",
   "name": "python",
   "nbconvert_exporter": "python",
   "pygments_lexer": "ipython3",
   "version": "3.10.10"
  },
  "orig_nbformat": 4
 },
 "nbformat": 4,
 "nbformat_minor": 2
}
