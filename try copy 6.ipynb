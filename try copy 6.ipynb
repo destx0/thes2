{
 "cells": [
  {
   "cell_type": "code",
   "execution_count": 1,
   "metadata": {},
   "outputs": [],
   "source": [
    "import matplotlib.pyplot as plt\n",
    "import networkx as nx\n",
    "import numpy as np\n",
    "from sklearn.datasets import make_blobs\n",
    "import random\n",
    "import json\n",
    "import time\n",
    "from tabulate import tabulate\n",
    "\n",
    "from kdtree import *\n",
    "from helper import *"
   ]
  },
  {
   "cell_type": "code",
   "execution_count": 2,
   "metadata": {},
   "outputs": [],
   "source": [
    "savefile = \"mst_data2.json\"\n",
    "to_plot = False\n",
    "no_points = 150\n",
    "no_centres = 3"
   ]
  },
  {
   "cell_type": "code",
   "execution_count": 3,
   "metadata": {},
   "outputs": [],
   "source": [
    "# from sklearn.datasets import make_blobs\n",
    "\n",
    "# X, Y = make_blobs(n_samples=no_points, centers=no_centres, random_state=42)\n",
    "# points = [(x, y) for x, y in X]"
   ]
  },
  {
   "cell_type": "code",
   "execution_count": 4,
   "metadata": {},
   "outputs": [],
   "source": [
    "from sklearn.datasets import load_iris\n",
    "from sklearn.mixture import GaussianMixture\n",
    "\n",
    "iris = load_iris()\n",
    "X_original = iris.data\n",
    "y_original = iris.target\n",
    "\n",
    "gmm = GaussianMixture(n_components=3, random_state=42) \n",
    "gmm.fit(X_original)\n",
    "\n",
    "X_synthetic, y_synthetic = gmm.sample(n_samples=10000)\n",
    "\n",
    "points = [(x[0], x[1]) for x in X_synthetic[:, :2] ]\n",
    "points = list(set(points))\n",
    "\n",
    "\n",
    "no_points = len(points)\n"
   ]
  },
  {
   "cell_type": "code",
   "execution_count": 5,
   "metadata": {},
   "outputs": [
    {
     "name": "stdout",
     "output_type": "stream",
     "text": [
      "10000\n"
     ]
    }
   ],
   "source": [
    "print(len(points))"
   ]
  },
  {
   "cell_type": "code",
   "execution_count": 6,
   "metadata": {},
   "outputs": [],
   "source": [
    "# from sklearn.datasets import make_blobs, make_moons , make_circles\n",
    "\n",
    "\n",
    "\n",
    "# # For moons\n",
    "# no_points_moons = 100  # example value\n",
    "# X_moons, Y_moons = make_moons(n_samples=no_points, noise=0.05, random_state=42)\n",
    "# points = [(x, y) for x, y in X_moons]\n",
    "# X, Y = make_circles(n_samples=no_points, factor=0.15, noise=0.05)\n",
    "# points = [(x, y) for x, y in X]\n"
   ]
  },
  {
   "cell_type": "code",
   "execution_count": 7,
   "metadata": {},
   "outputs": [],
   "source": [
    "# import numpy as np\n",
    "# from sklearn.datasets import make_moons\n",
    "# import matplotlib.pyplot as plt\n",
    "\n",
    "# def shift_moons(points, shift):\n",
    "#     return points + shift\n",
    "\n",
    "# # Generate the first set of moons\n",
    "# X1, y1 = make_moons(n_samples=70, noise=0.05, random_state=42)\n",
    "\n",
    "# # Generate and shift the second set of moons\n",
    "# X2, y2 = make_moons(n_samples=80, noise=0.05, random_state=42)\n",
    "# X2 = shift_moons(X2, np.array([1.5, 1]))  # Example shift\n",
    "\n",
    "# # Combine datasets\n",
    "# X = np.concatenate([X1, X2])\n",
    "# y = np.concatenate([y1, y2 + 2])  # Update labels for the second moon\n",
    "# points = [(x, y) for x, y in X]\n",
    "\n"
   ]
  },
  {
   "cell_type": "code",
   "execution_count": 8,
   "metadata": {},
   "outputs": [],
   "source": [
    "cordmap = {point: i for i, point in enumerate(points)}\n",
    "G = nx.Graph()\n",
    "for coord, index in cordmap.items():\n",
    "    G.add_node(index, pos=coord)\n",
    "graphify(G, to_plot , bottom_text = f'blobs no of points = {no_points},')\n"
   ]
  },
  {
   "cell_type": "code",
   "execution_count": null,
   "metadata": {},
   "outputs": [],
   "source": []
  },
  {
   "cell_type": "code",
   "execution_count": null,
   "metadata": {},
   "outputs": [],
   "source": []
  },
  {
   "cell_type": "code",
   "execution_count": 9,
   "metadata": {},
   "outputs": [],
   "source": [
    "def dcran(cordmap):\n",
    "    tree = KDTree()\n",
    "    tree.root = tree.build(points)\n",
    "    G = nx.Graph()\n",
    "    for coord, index in cordmap.items():\n",
    "        G.add_node(index, pos=coord)\n",
    "\n",
    "    k = 2\n",
    "    connected_components = 1\n",
    "    while True:\n",
    "        # graphify(G, to_plot)\n",
    "        maxdis = min(len(cordmap) , k**k)\n",
    "        for pointi, i in cordmap.items():\n",
    "            pointj = ith_nearest_neighbor(tree, pointi, k)\n",
    "            dis = euclidean_distance(pointi, pointj)\n",
    "            G.add_edge(i, cordmap[pointj], weight=dis)\n",
    "        graphify(G, to_plot)\n",
    "            # print(k ,  i , cordmap[pointj] , dis )\n",
    "            # randis = random.randint(k + 1, maxdis)\n",
    "        for pointi, i in cordmap.items():\n",
    "            randis = maxdis\n",
    "            # randis = (cusrandis(k + 1 , maxdis))\n",
    "            # print(randis , k)\n",
    "            pointj = ith_nearest_neighbor(tree, pointi, randis)\n",
    "            dis = euclidean_distance(pointi, pointj)\n",
    "            G.add_edge(i, cordmap[pointj], weight=dis)\n",
    "            # print(k ,  i , cordmap[pointj] , dis , randis)\n",
    "        \n",
    "        graphify(G, to_plot)\n",
    "        ccount = count_clusters(G)\n",
    "        print(k, ccount)\n",
    "        k += 1\n",
    "        \n",
    "        if ccount == 1:\n",
    "            break\n",
    "        \n",
    "    return G"
   ]
  },
  {
   "cell_type": "code",
   "execution_count": 10,
   "metadata": {},
   "outputs": [
    {
     "name": "stdout",
     "output_type": "stream",
     "text": [
      "2 90\n",
      "3 1\n"
     ]
    }
   ],
   "source": [
    "dcran_start_time = time.time()\n",
    "kc = dcran(cordmap)"
   ]
  },
  {
   "cell_type": "code",
   "execution_count": 11,
   "metadata": {},
   "outputs": [],
   "source": [
    "graphify(kc, to_plot, bottom_text = f'after edge selection , no of edges = {kc.number_of_edges()}')"
   ]
  },
  {
   "cell_type": "code",
   "execution_count": 12,
   "metadata": {},
   "outputs": [
    {
     "name": "stdout",
     "output_type": "stream",
     "text": [
      "Total number of nodes: 10000\n",
      "Total number of edges: 28445\n",
      "Total sum of edge weights: 1021.9701273661574\n"
     ]
    }
   ],
   "source": [
    "G = kc\n",
    "num_nodes = G.number_of_nodes()\n",
    "conedge = num_edges = G.number_of_edges()\n",
    "\n",
    "# Calculate the sum of all edge weights\n",
    "total_weight = sum(data[\"weight\"] for u, v, data in G.edges(data=True))\n",
    "\n",
    "print(f\"Total number of nodes: {num_nodes}\")\n",
    "print(f\"Total number of edges: {num_edges}\")\n",
    "print(f\"Total sum of edge weights: {total_weight}\")"
   ]
  },
  {
   "cell_type": "code",
   "execution_count": 13,
   "metadata": {},
   "outputs": [],
   "source": [
    "mst = nx.minimum_spanning_tree(G, algorithm=\"prim\", weight=\"weight\")\n",
    "graphify(mst, to_plot , bottom_text = f'iris using approximation algorithm')\n",
    "\n"
   ]
  },
  {
   "cell_type": "code",
   "execution_count": 14,
   "metadata": {},
   "outputs": [
    {
     "name": "stdout",
     "output_type": "stream",
     "text": [
      "Total number of nodes: 10000\n",
      "Total number of edges: 9999\n",
      "Total sum of edge weights: 157.20512577196067\n"
     ]
    }
   ],
   "source": [
    "G = mst\n",
    "num_nodes = G.number_of_nodes()\n",
    "num_edges = G.number_of_edges()\n",
    "\n",
    "\n",
    "foundw = total_weight = sum(data[\"weight\"] for u, v, data in G.edges(data=True))\n",
    "\n",
    "print(f\"Total number of nodes: {num_nodes}\")\n",
    "print(f\"Total number of edges: {num_edges}\")\n",
    "print(f\"Total sum of edge weights: {total_weight}\")\n",
    "dcran_end_time = time.time()\n",
    "dcran_elapsed_time = dcran_end_time - dcran_start_time"
   ]
  },
  {
   "cell_type": "code",
   "execution_count": 15,
   "metadata": {},
   "outputs": [],
   "source": [
    "stmst_start_time = time.time()\n",
    "G = nx.Graph()\n",
    "\n",
    "for pointi, i in cordmap.items():\n",
    "    G.add_node(i, pos=pointi)\n",
    "    for pointj, j in cordmap.items():\n",
    "        if i != j:\n",
    "            dis = euclidean_distance(pointi, pointj)\n",
    "            G.add_edge(i, j, weight=dis)"
   ]
  },
  {
   "cell_type": "code",
   "execution_count": 16,
   "metadata": {},
   "outputs": [],
   "source": [
    "graphify(G, to_plot , bottom_text = f'iris using prims')"
   ]
  },
  {
   "cell_type": "code",
   "execution_count": 17,
   "metadata": {},
   "outputs": [],
   "source": [
    "mst = nx.minimum_spanning_tree(G, algorithm=\"prim\", weight=\"weight\")\n",
    "graphify(mst, to_plot , bottom_text = f'iris using prims')"
   ]
  },
  {
   "cell_type": "code",
   "execution_count": 18,
   "metadata": {},
   "outputs": [
    {
     "name": "stdout",
     "output_type": "stream",
     "text": [
      "Total number of nodes: 10000\n",
      "Total number of edges: 9999\n",
      "Total sum of edge weights: 155.2697442302945\n"
     ]
    }
   ],
   "source": [
    "G = mst\n",
    "num_nodes = G.number_of_nodes()\n",
    "num_edges = G.number_of_edges()\n",
    "\n",
    "# Calculate the sum of all edge weights\n",
    "realw = total_weight = sum(data[\"weight\"] for u, v, data in G.edges(data=True))\n",
    "\n",
    "print(f\"Total number of nodes: {num_nodes}\")\n",
    "print(f\"Total number of edges: {num_edges}\")\n",
    "print(f\"Total sum of edge weights: {total_weight}\")\n",
    "stmst_end_time = time.time()\n",
    "stmst_elapsed_time = stmst_end_time - stmst_start_time"
   ]
  },
  {
   "cell_type": "code",
   "execution_count": 19,
   "metadata": {},
   "outputs": [
    {
     "data": {
      "text/plain": [
       "'Real Weight: 155.2697442302945  Found Weight: 157.20512577196067  no of Edge: 28445 Percentage Error: 1.25%'"
      ]
     },
     "execution_count": 19,
     "metadata": {},
     "output_type": "execute_result"
    }
   ],
   "source": [
    "percentage_error = ((foundw - realw) / realw) * 100\n",
    "\n",
    "# Format the output for readability\n",
    "formatted_output = f\"Real Weight: {realw}  Found Weight: {foundw}  no of Edge: {conedge} Percentage Error: {percentage_error:.2f}%\"\n",
    "formatted_output"
   ]
  },
  {
   "cell_type": "code",
   "execution_count": null,
   "metadata": {},
   "outputs": [],
   "source": []
  },
  {
   "cell_type": "code",
   "execution_count": null,
   "metadata": {},
   "outputs": [],
   "source": []
  },
  {
   "cell_type": "code",
   "execution_count": 20,
   "metadata": {},
   "outputs": [
    {
     "name": "stdout",
     "output_type": "stream",
     "text": [
      "[[1000, 10, 262.4419314705513, 258.819134723451, 8252, 98.6, 1.83, 4.38, 2.4], [10000, 10, 866.0209239473647, 865.3329904388614, 90645, 99.921, 28.58, 551.35, 19.29], [10000, 100, 1342.6324139702915, 1337.4478711909765, 27591, 99.612, 3.24, 510.53, 157.39], [10000, 100, 1342.6324139702915, 1337.4478711909762, 27591, 99.612, 2.48, 632.89, 255.22], [10000, 1000, 1459.7289235192638, 1455.1233116849917, 27457, 99.683, 2.5, 565.44, 226.17], [10000, 10, 866.0209239473647, 865.3329904388614, 90645, 99.92050071867081, 24.179672241210938, 617.7955191135406, 25.55], [10000, 50, 1260.1226131964793, 1255.8337705131123, 27661, 99.65848643474409, 2.1823902130126953, 513.3643357753754, 235.23], [10000, 10, 866.0209239473647, 865.3329904388614, 90645, 99.92050071867081, 24.11609435081482, 543.8352909088135, 22.55], [10000, 10, 875.7172119877604, 865.3329904388614, 38587, 98.79997392175785, 16.157432556152344, 646.0387144088745, 39.98], [10000, 100, 1342.6324139702872, 1337.4478711909717, 27591, 99.612, 1.5, 232.62, 154.75], [10000, 10, 967.0105168489275, 865.332990438861, 32735, 88.25, 7.89, 209.62, 26.56], [10000, 10, 867.4571441631454, 865.332990438861, 45861, 99.755, 5.48, 225.88, 41.25], [15000, 500, 1783.0314146512774, 1757.3728781078087, 46514, 98.54, 3.11, 564.35, 181.69], [15000, 1000, 1813.557010728571, 1785.537255038188, 46549, 98.431, 3.21, 573.22, 178.77], [15000, 1000, 1798.293862752415, 1785.537255038188, 42154, 99.286, 2.44, 544.27, 222.68], [15000, 1, 386.841248706861, 384.6163860826321, 42121, 99.422, 2.5, 554.83, 222.15], [15000, 10, 1073.50309697457, 1065.5548909781655, 42363, 99.25407822124413, 2.5295426845550537, 547.2857525348663, 216.36], [15000, 5000, 1794.064486975755, 1783.23742030549, 42090, 99.39284211137684, 2.401784658432007, 541.013343334198, 225.25], [5000, 500, 1013.5671064189752, 1007.7650224511618, 14038, 99.4242622200063, 0.776343822479248, 73.39654088020325, 94.54], [5000, 50, 892.4979797119519, 887.5530185656859, 14199, 99.4428545627328, 0.7974221706390381, 53.66596460342407, 67.3], [5000, 5, 477.53942192563545, 474.49800368375315, 34703, 99.35902401732561, 19.29679250717163, 51.27537298202515, 2.66], [5000, 1, 223.21695876455004, 221.6886591920187, 14137, 99.31060994364732, 0.8100242614746094, 54.215168714523315, 66.93], [15, 10, 46.25924116198592, 46.25924116198592, 45, 100.0, 2.326910972595215, 0.1178591251373291, 0.05], [15, 10, 46.25924116198592, 46.25924116198592, 45, 100.0, 2.1672616004943848, 0.10606622695922852, 0.05], [15, 10, 46.25924116198592, 46.25924116198592, 45, 100.0, 2.384692907333374, 0.12341737747192383, 0.05], [15, 10, 46.25924116198592, 46.25924116198592, 45, 100.0, 2.829577922821045, 0.11590576171875, 0.04], [15, 10, 46.25924116198592, 46.25924116198592, 43, 100.0, 0.9515030384063721, 0.09501934051513672, 0.1], [15, 10, 54.753334887643916, 46.25924116198592, 40, 81.63806082353526, 0.755295991897583, 0.11264562606811523, 0.15], [15, 10, 46.98859012237846, 46.25924116198592, 34, 98.4233443046794, 0.8583188056945801, 0.12079977989196777, 0.14], [15, 10, 46.98859012237846, 46.25924116198592, 34, 98.4233443046794, 0.04270648956298828, 0.011698484420776367, 0.27], [1000, 10, 264.3526888272414, 258.819134723451, 5110, 97.86199961231496, 0.7574050426483154, 3.179032564163208, 4.2], [1000, 2, 137.31557230923403, 134.38734201778684, 6063, 97.82105200721983, 2.1682417392730713, 4.032438516616821, 1.86], [1000, 1, 96.45583500188386, 94.80823052276803, 2147, 98.26217146968041, 0.17765498161315918, 3.7465133666992188, 21.09], [5000, 2, 320.5638759410657, 313.8384461581481, 37775, 97.85704082299446, 53.530765771865845, 126.5348687171936, 2.36], [1000, 100, 426.7713738600062, 420.4469701472723, 2162, 98.49579039408499, 0.19410347938537598, 2.47883939743042, 12.77], [1000, 100, 426.7713738600062, 420.4469701472723, 2162, 98.49579039408499, 0.19677138328552246, 2.906986951828003, 14.77], [100, 10, 97.43014102905913, 92.57131083762049, 367, 94.75125700665347, 1.4320266246795654, 0.2288217544555664, 0.16], [100, 10, 97.43014102905913, 92.57131083762049, 367, 94.75125700665347, 1.0022079944610596, 0.11753416061401367, 0.12], [100, 10, 97.43014102905913, 92.57131083762049, 367, 94.75125700665347, 0.9555826187133789, 0.1244652271270752, 0.13], [100, 10, 97.43014102905906, 92.57131083762039, 367, 94.75125700665343, 1.311535358428955, 0.3392155170440674, 0.26], [15, 10, 54.753334887643916, 46.25924116198592, 40, 81.63806082353526, 1.0202219486236572, 0.1346721649169922, 0.13], [150, 2, 18.332532604177274, 17.593355311372406, 326, 95.79854280367394, 80.26831030845642, 2.4247725009918213, 0.03], [150, 2, 17.593355311372406, 17.593355311372406, 326, 100.0, 16.684972047805786, 10.90892481803894, 0.65], [117, 2, 18.018530260039423, 17.593355311372413, 336, 97.58332085527668, 142.67777633666992, 58.01861357688904, 0.41], [117, 1, 18.018530260039423, 17.593355311372413, 336, 97.58332085527668, 0.1368110179901123, 0.04320383071899414, 0.32]]\n"
     ]
    }
   ],
   "source": [
    "with open(savefile, \"r\") as f:\n",
    "    loaded_data = json.load(f)\n",
    "print(loaded_data)\n",
    "currres = []\n",
    "speedup = round((stmst_elapsed_time  / dcran_elapsed_time) , 2)\n",
    "loaded_data.append(\n",
    "    [\n",
    "        no_points,\n",
    "        no_centres,\n",
    "        foundw,\n",
    "        realw,\n",
    "        conedge,\n",
    "        100 - percentage_error ,\n",
    "        dcran_elapsed_time ,\n",
    "        stmst_elapsed_time ,\n",
    "        speedup\n",
    "    ]\n",
    ")\n",
    "\n",
    "# Save the updated dictionary back to the JSON file\n",
    "with open(savefile, \"w\") as f:\n",
    "    json.dump(loaded_data, f)"
   ]
  },
  {
   "cell_type": "code",
   "execution_count": 21,
   "metadata": {},
   "outputs": [
    {
     "name": "stdout",
     "output_type": "stream",
     "text": [
      "[[1000, 10, 262.4419314705513, 258.819134723451, 8252, 98.6, 1.83, 4.38, 2.4], [10000, 10, 866.0209239473647, 865.3329904388614, 90645, 99.921, 28.58, 551.35, 19.29], [10000, 100, 1342.6324139702915, 1337.4478711909765, 27591, 99.612, 3.24, 510.53, 157.39], [10000, 100, 1342.6324139702915, 1337.4478711909762, 27591, 99.612, 2.48, 632.89, 255.22], [10000, 1000, 1459.7289235192638, 1455.1233116849917, 27457, 99.683, 2.5, 565.44, 226.17], [10000, 10, 866.0209239473647, 865.3329904388614, 90645, 99.92050071867081, 24.179672241210938, 617.7955191135406, 25.55], [10000, 50, 1260.1226131964793, 1255.8337705131123, 27661, 99.65848643474409, 2.1823902130126953, 513.3643357753754, 235.23], [10000, 10, 866.0209239473647, 865.3329904388614, 90645, 99.92050071867081, 24.11609435081482, 543.8352909088135, 22.55], [10000, 10, 875.7172119877604, 865.3329904388614, 38587, 98.79997392175785, 16.157432556152344, 646.0387144088745, 39.98], [10000, 100, 1342.6324139702872, 1337.4478711909717, 27591, 99.612, 1.5, 232.62, 154.75], [10000, 10, 967.0105168489275, 865.332990438861, 32735, 88.25, 7.89, 209.62, 26.56], [10000, 10, 867.4571441631454, 865.332990438861, 45861, 99.755, 5.48, 225.88, 41.25], [15000, 500, 1783.0314146512774, 1757.3728781078087, 46514, 98.54, 3.11, 564.35, 181.69], [15000, 1000, 1813.557010728571, 1785.537255038188, 46549, 98.431, 3.21, 573.22, 178.77], [15000, 1000, 1798.293862752415, 1785.537255038188, 42154, 99.286, 2.44, 544.27, 222.68], [15000, 1, 386.841248706861, 384.6163860826321, 42121, 99.422, 2.5, 554.83, 222.15], [15000, 10, 1073.50309697457, 1065.5548909781655, 42363, 99.25407822124413, 2.5295426845550537, 547.2857525348663, 216.36], [15000, 5000, 1794.064486975755, 1783.23742030549, 42090, 99.39284211137684, 2.401784658432007, 541.013343334198, 225.25], [5000, 500, 1013.5671064189752, 1007.7650224511618, 14038, 99.4242622200063, 0.776343822479248, 73.39654088020325, 94.54], [5000, 50, 892.4979797119519, 887.5530185656859, 14199, 99.4428545627328, 0.7974221706390381, 53.66596460342407, 67.3], [5000, 5, 477.53942192563545, 474.49800368375315, 34703, 99.35902401732561, 19.29679250717163, 51.27537298202515, 2.66], [5000, 1, 223.21695876455004, 221.6886591920187, 14137, 99.31060994364732, 0.8100242614746094, 54.215168714523315, 66.93], [15, 10, 46.25924116198592, 46.25924116198592, 45, 100.0, 2.326910972595215, 0.1178591251373291, 0.05], [15, 10, 46.25924116198592, 46.25924116198592, 45, 100.0, 2.1672616004943848, 0.10606622695922852, 0.05], [15, 10, 46.25924116198592, 46.25924116198592, 45, 100.0, 2.384692907333374, 0.12341737747192383, 0.05], [15, 10, 46.25924116198592, 46.25924116198592, 45, 100.0, 2.829577922821045, 0.11590576171875, 0.04], [15, 10, 46.25924116198592, 46.25924116198592, 43, 100.0, 0.9515030384063721, 0.09501934051513672, 0.1], [15, 10, 54.753334887643916, 46.25924116198592, 40, 81.63806082353526, 0.755295991897583, 0.11264562606811523, 0.15], [15, 10, 46.98859012237846, 46.25924116198592, 34, 98.4233443046794, 0.8583188056945801, 0.12079977989196777, 0.14], [15, 10, 46.98859012237846, 46.25924116198592, 34, 98.4233443046794, 0.04270648956298828, 0.011698484420776367, 0.27], [1000, 10, 264.3526888272414, 258.819134723451, 5110, 97.86199961231496, 0.7574050426483154, 3.179032564163208, 4.2], [1000, 2, 137.31557230923403, 134.38734201778684, 6063, 97.82105200721983, 2.1682417392730713, 4.032438516616821, 1.86], [1000, 1, 96.45583500188386, 94.80823052276803, 2147, 98.26217146968041, 0.17765498161315918, 3.7465133666992188, 21.09], [5000, 2, 320.5638759410657, 313.8384461581481, 37775, 97.85704082299446, 53.530765771865845, 126.5348687171936, 2.36], [1000, 100, 426.7713738600062, 420.4469701472723, 2162, 98.49579039408499, 0.19410347938537598, 2.47883939743042, 12.77], [1000, 100, 426.7713738600062, 420.4469701472723, 2162, 98.49579039408499, 0.19677138328552246, 2.906986951828003, 14.77], [100, 10, 97.43014102905913, 92.57131083762049, 367, 94.75125700665347, 1.4320266246795654, 0.2288217544555664, 0.16], [100, 10, 97.43014102905913, 92.57131083762049, 367, 94.75125700665347, 1.0022079944610596, 0.11753416061401367, 0.12], [100, 10, 97.43014102905913, 92.57131083762049, 367, 94.75125700665347, 0.9555826187133789, 0.1244652271270752, 0.13], [100, 10, 97.43014102905906, 92.57131083762039, 367, 94.75125700665343, 1.311535358428955, 0.3392155170440674, 0.26], [15, 10, 54.753334887643916, 46.25924116198592, 40, 81.63806082353526, 1.0202219486236572, 0.1346721649169922, 0.13], [150, 2, 18.332532604177274, 17.593355311372406, 326, 95.79854280367394, 80.26831030845642, 2.4247725009918213, 0.03], [150, 2, 17.593355311372406, 17.593355311372406, 326, 100.0, 16.684972047805786, 10.90892481803894, 0.65], [117, 2, 18.018530260039423, 17.593355311372413, 336, 97.58332085527668, 142.67777633666992, 58.01861357688904, 0.41], [117, 1, 18.018530260039423, 17.593355311372413, 336, 97.58332085527668, 0.1368110179901123, 0.04320383071899414, 0.32], [10000, 3, 157.20512577196067, 155.2697442302945, 28445, 98.75353595044528, 2.9970273971557617, 589.7564311027527, 196.78]]\n"
     ]
    }
   ],
   "source": [
    "with open(savefile, \"r\") as f:\n",
    "    loaded_data = json.load(f)\n",
    "print(loaded_data)"
   ]
  },
  {
   "cell_type": "code",
   "execution_count": null,
   "metadata": {},
   "outputs": [],
   "source": []
  },
  {
   "cell_type": "code",
   "execution_count": 22,
   "metadata": {},
   "outputs": [
    {
     "name": "stdout",
     "output_type": "stream",
     "text": [
      "|   Points |   Centres |   DCRAN Wt |   prims Wt |   Edge count |   Acc(%) |   DCRAN Time (s) |   STMST Time (s) |   Speedup |\n",
      "|---------:|----------:|-----------:|-----------:|-------------:|---------:|-----------------:|-----------------:|----------:|\n",
      "|     1000 |         2 |      137.3 |      134.4 |         6063 |    97.82 |             2.17 |             4.03 |      1.86 |\n",
      "|     1000 |         1 |       96.5 |       94.8 |         2147 |    98.26 |             0.18 |             3.75 |     21.09 |\n",
      "|     5000 |         2 |      320.6 |      313.8 |        37775 |    97.86 |            53.53 |           126.53 |      2.36 |\n",
      "|     1000 |       100 |      426.8 |      420.4 |         2162 |    98.50 |             0.19 |             2.48 |     12.77 |\n",
      "|     1000 |       100 |      426.8 |      420.4 |         2162 |    98.50 |             0.20 |             2.91 |     14.77 |\n",
      "|      100 |        10 |       97.4 |       92.6 |          367 |    94.75 |             1.43 |             0.23 |      0.16 |\n",
      "|      100 |        10 |       97.4 |       92.6 |          367 |    94.75 |             1.00 |             0.12 |      0.12 |\n",
      "|      100 |        10 |       97.4 |       92.6 |          367 |    94.75 |             0.96 |             0.12 |      0.13 |\n",
      "|      100 |        10 |       97.4 |       92.6 |          367 |    94.75 |             1.31 |             0.34 |      0.26 |\n",
      "|       15 |        10 |       54.8 |       46.3 |           40 |    81.64 |             1.02 |             0.13 |      0.13 |\n",
      "|      150 |         2 |       18.3 |       17.6 |          326 |    95.80 |            80.27 |             2.42 |      0.03 |\n",
      "|      150 |         2 |       17.6 |       17.6 |          326 |   100.00 |            16.68 |            10.91 |      0.65 |\n",
      "|      117 |         2 |       18.0 |       17.6 |          336 |    97.58 |           142.68 |            58.02 |      0.41 |\n",
      "|      117 |         1 |       18.0 |       17.6 |          336 |    97.58 |             0.14 |             0.04 |      0.32 |\n",
      "|    10000 |         3 |      157.2 |      155.3 |        28445 |    98.75 |             3.00 |           589.76 |    196.78 |\n"
     ]
    }
   ],
   "source": [
    "headers = [\n",
    "    \"Points\",\n",
    "    \"Centres\",\n",
    "    \"DCRAN Wt\",\n",
    "    \"prims Wt\",\n",
    "    \"Edge count\",\n",
    "    \"Acc(%)\",\n",
    "    \"DCRAN Time (s)\",\n",
    "    \"STMST Time (s)\",\n",
    "    \"Speedup\"\n",
    "]\n",
    "\n",
    "# Format the data as a table using tabulate\n",
    "table_str = tabulate(loaded_data[-15:], headers, tablefmt=\"pipe\", floatfmt=(\".0f\", \".0f\", \".1f\", \".1f\", \".0f\", \".2f\", \".2f\", \".2f\", \".2f\"))\n",
    "print(table_str)\n",
    "\n",
    "\n"
   ]
  },
  {
   "cell_type": "code",
   "execution_count": 23,
   "metadata": {},
   "outputs": [
    {
     "name": "stdout",
     "output_type": "stream",
     "text": [
      "Line 1\n",
      "Line 2\n"
     ]
    }
   ],
   "source": [
    "print(\"Line 1\\nLine 2\")\n"
   ]
  },
  {
   "cell_type": "code",
   "execution_count": null,
   "metadata": {},
   "outputs": [],
   "source": []
  }
 ],
 "metadata": {
  "kernelspec": {
   "display_name": "myenv",
   "language": "python",
   "name": "python3"
  },
  "language_info": {
   "codemirror_mode": {
    "name": "ipython",
    "version": 3
   },
   "file_extension": ".py",
   "mimetype": "text/x-python",
   "name": "python",
   "nbconvert_exporter": "python",
   "pygments_lexer": "ipython3",
   "version": "3.10.10"
  },
  "orig_nbformat": 4
 },
 "nbformat": 4,
 "nbformat_minor": 2
}
