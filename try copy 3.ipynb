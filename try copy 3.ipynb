{
 "cells": [
  {
   "cell_type": "code",
   "execution_count": 1,
   "metadata": {},
   "outputs": [],
   "source": [
    "import matplotlib.pyplot as plt\n",
    "import networkx as nx\n",
    "import numpy as np\n",
    "from sklearn.datasets import make_blobs\n",
    "import random\n",
    "import json\n",
    "import time\n",
    "from tabulate import tabulate\n",
    "\n",
    "from kdtree import *\n",
    "from helper import *"
   ]
  },
  {
   "cell_type": "code",
   "execution_count": 2,
   "metadata": {},
   "outputs": [],
   "source": [
    "savefile = \"mst_data2.json\"\n",
    "to_plot = False\n",
    "no_points = 10000\n",
    "no_centres = 10"
   ]
  },
  {
   "cell_type": "code",
   "execution_count": 3,
   "metadata": {},
   "outputs": [],
   "source": [
    "X, Y = make_blobs(n_samples=no_points, centers=no_centres, random_state=42)\n",
    "points = [(x, y) for x, y in X]"
   ]
  },
  {
   "cell_type": "code",
   "execution_count": 4,
   "metadata": {},
   "outputs": [],
   "source": [
    "cordmap = {point: i for i, point in enumerate(points)}"
   ]
  },
  {
   "cell_type": "code",
   "execution_count": 5,
   "metadata": {},
   "outputs": [],
   "source": [
    "def dcran(cordmap):\n",
    "    tree = KDTree()\n",
    "    tree.root = tree.build(points)\n",
    "    G = nx.Graph()\n",
    "    for coord, index in cordmap.items():\n",
    "        G.add_node(index, pos=coord)\n",
    "\n",
    "    k = 2\n",
    "    connected_components = 1\n",
    "    while True:\n",
    "        maxdis = min(len(cordmap) , k**k)\n",
    "        for pointi, i in cordmap.items():\n",
    "            pointj = ith_nearest_neighbor(tree, pointi, k)\n",
    "            dis = euclidean_distance(pointi, pointj)\n",
    "            G.add_edge(i, cordmap[pointj], weight=dis)\n",
    "            # print(k ,  i , cordmap[pointj] , dis )\n",
    "            # randis = random.randint(k + 1, maxdis)\n",
    "            randis = maxdis\n",
    "            # randis = (cusrandis(k + 1 , maxdis))\n",
    "            # print(randis , k)\n",
    "            pointj = ith_nearest_neighbor(tree, pointi, randis)\n",
    "            dis = euclidean_distance(pointi, pointj)\n",
    "            G.add_edge(i, cordmap[pointj], weight=dis)\n",
    "            # print(k ,  i , cordmap[pointj] , dis , randis)\n",
    "        ccount = count_clusters(G)\n",
    "        print(k, ccount)\n",
    "        k += 1\n",
    "        if ccount == 1:\n",
    "            break\n",
    "\n",
    "    return G"
   ]
  },
  {
   "cell_type": "code",
   "execution_count": 6,
   "metadata": {},
   "outputs": [
    {
     "name": "stdout",
     "output_type": "stream",
     "text": [
      "2 81\n",
      "3 3\n",
      "4 1\n"
     ]
    }
   ],
   "source": [
    "dcran_start_time = time.time()\n",
    "kc = dcran(cordmap)"
   ]
  },
  {
   "cell_type": "code",
   "execution_count": 7,
   "metadata": {},
   "outputs": [],
   "source": [
    "graphify(kc, to_plot)"
   ]
  },
  {
   "cell_type": "code",
   "execution_count": 8,
   "metadata": {},
   "outputs": [
    {
     "name": "stdout",
     "output_type": "stream",
     "text": [
      "Total number of nodes: 10000\n",
      "Total number of edges: 38587\n",
      "Total sum of edge weights: 16453.57430970604\n"
     ]
    }
   ],
   "source": [
    "G = kc\n",
    "num_nodes = G.number_of_nodes()\n",
    "conedge = num_edges = G.number_of_edges()\n",
    "\n",
    "# Calculate the sum of all edge weights\n",
    "total_weight = sum(data[\"weight\"] for u, v, data in G.edges(data=True))\n",
    "\n",
    "print(f\"Total number of nodes: {num_nodes}\")\n",
    "print(f\"Total number of edges: {num_edges}\")\n",
    "print(f\"Total sum of edge weights: {total_weight}\")"
   ]
  },
  {
   "cell_type": "code",
   "execution_count": 9,
   "metadata": {},
   "outputs": [],
   "source": [
    "mst = nx.minimum_spanning_tree(G, algorithm=\"prim\", weight=\"weight\")\n",
    "graphify(mst, to_plot)\n",
    "\n"
   ]
  },
  {
   "cell_type": "code",
   "execution_count": 10,
   "metadata": {},
   "outputs": [
    {
     "name": "stdout",
     "output_type": "stream",
     "text": [
      "Total number of nodes: 10000\n",
      "Total number of edges: 9999\n",
      "Total sum of edge weights: 875.7172119877604\n"
     ]
    }
   ],
   "source": [
    "G = mst\n",
    "num_nodes = G.number_of_nodes()\n",
    "num_edges = G.number_of_edges()\n",
    "\n",
    "\n",
    "foundw = total_weight = sum(data[\"weight\"] for u, v, data in G.edges(data=True))\n",
    "\n",
    "print(f\"Total number of nodes: {num_nodes}\")\n",
    "print(f\"Total number of edges: {num_edges}\")\n",
    "print(f\"Total sum of edge weights: {total_weight}\")\n",
    "dcran_end_time = time.time()\n",
    "dcran_elapsed_time = dcran_end_time - dcran_start_time"
   ]
  },
  {
   "cell_type": "code",
   "execution_count": 11,
   "metadata": {},
   "outputs": [],
   "source": [
    "stmst_start_time = time.time()\n",
    "G = nx.Graph()\n",
    "\n",
    "for pointi, i in cordmap.items():\n",
    "    G.add_node(i, pos=pointi)\n",
    "    for pointj, j in cordmap.items():\n",
    "        if i != j:\n",
    "            dis = euclidean_distance(pointi, pointj)\n",
    "            G.add_edge(i, j, weight=dis)"
   ]
  },
  {
   "cell_type": "code",
   "execution_count": 12,
   "metadata": {},
   "outputs": [],
   "source": [
    "mst = nx.minimum_spanning_tree(G, algorithm=\"prim\", weight=\"weight\")\n",
    "graphify(mst, to_plot)"
   ]
  },
  {
   "cell_type": "code",
   "execution_count": 13,
   "metadata": {},
   "outputs": [
    {
     "name": "stdout",
     "output_type": "stream",
     "text": [
      "Total number of nodes: 10000\n",
      "Total number of edges: 9999\n",
      "Total sum of edge weights: 865.3329904388614\n"
     ]
    }
   ],
   "source": [
    "G = mst\n",
    "num_nodes = G.number_of_nodes()\n",
    "num_edges = G.number_of_edges()\n",
    "\n",
    "# Calculate the sum of all edge weights\n",
    "realw = total_weight = sum(data[\"weight\"] for u, v, data in G.edges(data=True))\n",
    "\n",
    "print(f\"Total number of nodes: {num_nodes}\")\n",
    "print(f\"Total number of edges: {num_edges}\")\n",
    "print(f\"Total sum of edge weights: {total_weight}\")\n",
    "stmst_end_time = time.time()\n",
    "stmst_elapsed_time = stmst_end_time - stmst_start_time"
   ]
  },
  {
   "cell_type": "code",
   "execution_count": 14,
   "metadata": {},
   "outputs": [
    {
     "data": {
      "text/plain": [
       "'Real Weight: 865.3329904388614  Found Weight: 875.7172119877604  no of Edge: 38587 Percentage Error: 1.20%'"
      ]
     },
     "execution_count": 14,
     "metadata": {},
     "output_type": "execute_result"
    }
   ],
   "source": [
    "percentage_error = ((foundw - realw) / realw) * 100\n",
    "\n",
    "# Format the output for readability\n",
    "formatted_output = f\"Real Weight: {realw}  Found Weight: {foundw}  no of Edge: {conedge} Percentage Error: {percentage_error:.2f}%\"\n",
    "formatted_output"
   ]
  },
  {
   "cell_type": "code",
   "execution_count": null,
   "metadata": {},
   "outputs": [],
   "source": []
  },
  {
   "cell_type": "code",
   "execution_count": null,
   "metadata": {},
   "outputs": [],
   "source": []
  },
  {
   "cell_type": "code",
   "execution_count": 15,
   "metadata": {},
   "outputs": [
    {
     "name": "stdout",
     "output_type": "stream",
     "text": [
      "[[1000, 10, 262.4419314705513, 258.819134723451, 8252, 98.6, 1.83, 4.38, 2.4], [10000, 10, 866.0209239473647, 865.3329904388614, 90645, 99.921, 28.58, 551.35, 19.29], [10000, 100, 1342.6324139702915, 1337.4478711909765, 27591, 99.612, 3.24, 510.53, 157.39], [10000, 100, 1342.6324139702915, 1337.4478711909762, 27591, 99.612, 2.48, 632.89, 255.22], [10000, 1000, 1459.7289235192638, 1455.1233116849917, 27457, 99.683, 2.5, 565.44, 226.17], [10000, 10, 866.0209239473647, 865.3329904388614, 90645, 99.92050071867081, 24.179672241210938, 617.7955191135406, 25.55], [10000, 50, 1260.1226131964793, 1255.8337705131123, 27661, 99.65848643474409, 2.1823902130126953, 513.3643357753754, 235.23], [10000, 10, 866.0209239473647, 865.3329904388614, 90645, 99.92050071867081, 24.11609435081482, 543.8352909088135, 22.55]]\n"
     ]
    }
   ],
   "source": [
    "with open(savefile, \"r\") as f:\n",
    "    loaded_data = json.load(f)\n",
    "print(loaded_data)\n",
    "currres = []\n",
    "speedup = round((stmst_elapsed_time  / dcran_elapsed_time) , 2)\n",
    "loaded_data.append(\n",
    "    [\n",
    "        no_points,\n",
    "        no_centres,\n",
    "        foundw,\n",
    "        realw,\n",
    "        conedge,\n",
    "        100 - percentage_error ,\n",
    "        dcran_elapsed_time ,\n",
    "        stmst_elapsed_time ,\n",
    "        speedup\n",
    "    ]\n",
    ")\n",
    "\n",
    "# Save the updated dictionary back to the JSON file\n",
    "with open(savefile, \"w\") as f:\n",
    "    json.dump(loaded_data, f)"
   ]
  },
  {
   "cell_type": "code",
   "execution_count": 16,
   "metadata": {},
   "outputs": [
    {
     "name": "stdout",
     "output_type": "stream",
     "text": [
      "[[1000, 10, 262.4419314705513, 258.819134723451, 8252, 98.6, 1.83, 4.38, 2.4], [10000, 10, 866.0209239473647, 865.3329904388614, 90645, 99.921, 28.58, 551.35, 19.29], [10000, 100, 1342.6324139702915, 1337.4478711909765, 27591, 99.612, 3.24, 510.53, 157.39], [10000, 100, 1342.6324139702915, 1337.4478711909762, 27591, 99.612, 2.48, 632.89, 255.22], [10000, 1000, 1459.7289235192638, 1455.1233116849917, 27457, 99.683, 2.5, 565.44, 226.17], [10000, 10, 866.0209239473647, 865.3329904388614, 90645, 99.92050071867081, 24.179672241210938, 617.7955191135406, 25.55], [10000, 50, 1260.1226131964793, 1255.8337705131123, 27661, 99.65848643474409, 2.1823902130126953, 513.3643357753754, 235.23], [10000, 10, 866.0209239473647, 865.3329904388614, 90645, 99.92050071867081, 24.11609435081482, 543.8352909088135, 22.55], [10000, 10, 875.7172119877604, 865.3329904388614, 38587, 98.79997392175785, 16.157432556152344, 646.0387144088745, 39.98]]\n"
     ]
    }
   ],
   "source": [
    "with open(savefile, \"r\") as f:\n",
    "    loaded_data = json.load(f)\n",
    "print(loaded_data)"
   ]
  },
  {
   "cell_type": "code",
   "execution_count": null,
   "metadata": {},
   "outputs": [],
   "source": []
  },
  {
   "cell_type": "code",
   "execution_count": 17,
   "metadata": {},
   "outputs": [
    {
     "name": "stdout",
     "output_type": "stream",
     "text": [
      "|   Points |   Centres |   DCRAN Wt |   kruskal Wt |   Edge count |   Acc(%) |   DCRAN Time (s) |   STMST Time (s) |   Speedup |\n",
      "|---------:|----------:|-----------:|-------------:|-------------:|---------:|-----------------:|-----------------:|----------:|\n",
      "|     1000 |        10 |      262.4 |        258.8 |         8252 |    98.60 |             1.83 |             4.38 |      2.40 |\n",
      "|    10000 |        10 |      866.0 |        865.3 |        90645 |    99.92 |            28.58 |           551.35 |     19.29 |\n",
      "|    10000 |       100 |     1342.6 |       1337.4 |        27591 |    99.61 |             3.24 |           510.53 |    157.39 |\n",
      "|    10000 |       100 |     1342.6 |       1337.4 |        27591 |    99.61 |             2.48 |           632.89 |    255.22 |\n",
      "|    10000 |      1000 |     1459.7 |       1455.1 |        27457 |    99.68 |             2.50 |           565.44 |    226.17 |\n",
      "|    10000 |        10 |      866.0 |        865.3 |        90645 |    99.92 |            24.18 |           617.80 |     25.55 |\n",
      "|    10000 |        50 |     1260.1 |       1255.8 |        27661 |    99.66 |             2.18 |           513.36 |    235.23 |\n",
      "|    10000 |        10 |      866.0 |        865.3 |        90645 |    99.92 |            24.12 |           543.84 |     22.55 |\n",
      "|    10000 |        10 |      875.7 |        865.3 |        38587 |    98.80 |            16.16 |           646.04 |     39.98 |\n"
     ]
    }
   ],
   "source": [
    "headers = [\n",
    "    \"Points\",\n",
    "    \"Centres\",\n",
    "    \"DCRAN Wt\",\n",
    "    \"kruskal Wt\",\n",
    "    \"Edge count\",\n",
    "    \"Acc(%)\",\n",
    "    \"DCRAN Time (s)\",\n",
    "    \"STMST Time (s)\",\n",
    "    \"Speedup\"\n",
    "]\n",
    "\n",
    "# Format the data as a table using tabulate\n",
    "table_str = tabulate(loaded_data, headers, tablefmt=\"pipe\", floatfmt=(\".0f\", \".0f\", \".1f\", \".1f\", \".0f\", \".2f\", \".2f\", \".2f\", \".2f\"))\n",
    "print(table_str)\n",
    "\n",
    "\n"
   ]
  },
  {
   "cell_type": "code",
   "execution_count": 18,
   "metadata": {},
   "outputs": [
    {
     "name": "stdout",
     "output_type": "stream",
     "text": [
      "Line 1\n",
      "Line 2\n"
     ]
    }
   ],
   "source": [
    "print(\"Line 1\\nLine 2\")\n"
   ]
  },
  {
   "cell_type": "code",
   "execution_count": null,
   "metadata": {},
   "outputs": [],
   "source": []
  }
 ],
 "metadata": {
  "kernelspec": {
   "display_name": "myenv",
   "language": "python",
   "name": "python3"
  },
  "language_info": {
   "codemirror_mode": {
    "name": "ipython",
    "version": 3
   },
   "file_extension": ".py",
   "mimetype": "text/x-python",
   "name": "python",
   "nbconvert_exporter": "python",
   "pygments_lexer": "ipython3",
   "version": "3.10.10"
  },
  "orig_nbformat": 4
 },
 "nbformat": 4,
 "nbformat_minor": 2
}
