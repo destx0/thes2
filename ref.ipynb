{
 "cells": [
  {
   "cell_type": "code",
   "execution_count": null,
   "metadata": {},
   "outputs": [],
   "source": [
    "from math import *\n",
    "from random import *\n",
    "\n",
    "cordmap = {}\n",
    "neighbours = {}\n",
    "no_centres = 10"
   ]
  },
  {
   "cell_type": "code",
   "execution_count": null,
   "metadata": {},
   "outputs": [],
   "source": [
    "def build():\n",
    "    pass\n",
    "def add_E():\n",
    "    pass\n",
    "def euclidean_distance(a, b):\n",
    "    pass\n",
    "N = 0\n",
    "def count_comps():\n",
    "    pass\n",
    "G = 0\n",
    "def closest_to_center():\n",
    "    pass\n",
    "def build_mst():\n",
    "    pass"
   ]
  },
  {
   "cell_type": "code",
   "execution_count": null,
   "metadata": {},
   "outputs": [],
   "source": [
    "def dcran(points):\n",
    "    build(points)\n",
    "    while k * k <= log2(N):\n",
    "        k += 1\n",
    "        for pti in points:\n",
    "\n",
    "            for dis in (k, factorial(k)):\n",
    "                ptj = neighbours[pti][dis]\n",
    "                G.add_E(pti, ptj)\n",
    "\n",
    "            if randint(2**64) % N < factorial(k):\n",
    "                G.add_E(pti, choice(points))\n",
    "\n",
    "        if count_comps(G) == 1: break\n",
    "\n",
    "    else:\n",
    "        cen_pt = closest_to_center(points)\n",
    "        for pt in points:\n",
    "            G.add_E(pt, cen_pt)\n",
    "\n",
    "    build_mst(G)"
   ]
  },
  {
   "cell_type": "code",
   "execution_count": 2,
   "metadata": {},
   "outputs": [
    {
     "name": "stdout",
     "output_type": "stream",
     "text": [
      "1\n"
     ]
    }
   ],
   "source": [
    "i = 1\n",
    "while i< 5:\n",
    "    print(i)\n",
    "    i+=1\n",
    "    break\n",
    "else:\n",
    "    print(\"else\")"
   ]
  },
  {
   "cell_type": "code",
   "execution_count": null,
   "metadata": {},
   "outputs": [],
   "source": [
    "from sklearn.datasets import make_blobs\n",
    "\n",
    "X, Y = make_blobs(n_samples=N, centers=no_centres)\n",
    "points = [(x, y) for x, y in X]"
   ]
  }
 ],
 "metadata": {
  "kernelspec": {
   "display_name": "myenv",
   "language": "python",
   "name": "python3"
  },
  "language_info": {
   "codemirror_mode": {
    "name": "ipython",
    "version": 3
   },
   "file_extension": ".py",
   "mimetype": "text/x-python",
   "name": "python",
   "nbconvert_exporter": "python",
   "pygments_lexer": "ipython3",
   "version": "3.10.10"
  }
 },
 "nbformat": 4,
 "nbformat_minor": 2
}
